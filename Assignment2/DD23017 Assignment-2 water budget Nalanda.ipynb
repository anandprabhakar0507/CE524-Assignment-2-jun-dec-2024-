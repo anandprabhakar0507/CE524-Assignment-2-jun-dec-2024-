{
 "cells": [
  {
   "cell_type": "markdown",
   "id": "a52bf3e5-f2f1-42cd-aa18-fb0c3e1709a2",
   "metadata": {},
   "source": [
    "## Assignment-2 (CE-524 : Hydroclimatology)\n",
    "\n",
    "<div>\n",
    "    <span>Name: Anand Prabhakar</span><br>\n",
    "    <span>Roll no.: DD23017</span><br>\n",
    "    <span>Submitted to: Dr. Vivek Gupta</span><br>\n",
    "    <span>Submitted on: 15/09/2024</span><br>\n",
    "</div>"
   ]
  },
  {
   "cell_type": "markdown",
   "id": "564608a2-5b43-48da-ab69-78c3a3695e72",
   "metadata": {},
   "source": [
    "## Water budget for the Nalanda District of Bihar\n",
    "<div align=\"center\"><img src=\"Nalanda.png\" width=\"50%\"></div>\n",
    "<span style=\"float: right\">Image (above) Source: <b>Wikipedia</b> </span>\n",
    "<br>\n",
    "<span style=\"float: right\">Data Source : \n",
    "<b>India Water Resources Information System</b> </span>\n"
   ]
  },
  {
   "cell_type": "code",
   "execution_count": 124,
   "id": "722224f1-df4a-44f7-8b1b-72624983becf",
   "metadata": {},
   "outputs": [],
   "source": [
    "import netCDF4 as nc  \n",
    "import xarray as xr\n",
    "import pandas as pd\n",
    "import numpy as np\n",
    "import matplotlib.pyplot as plt"
   ]
  },
  {
   "cell_type": "code",
   "execution_count": 125,
   "id": "570ed8a3-8120-4cf6-8cec-9968a7faf130",
   "metadata": {},
   "outputs": [
    {
     "data": {
      "text/html": [
       "<div>\n",
       "<style scoped>\n",
       "    .dataframe tbody tr th:only-of-type {\n",
       "        vertical-align: middle;\n",
       "    }\n",
       "\n",
       "    .dataframe tbody tr th {\n",
       "        vertical-align: top;\n",
       "    }\n",
       "\n",
       "    .dataframe thead th {\n",
       "        text-align: right;\n",
       "    }\n",
       "</style>\n",
       "<table border=\"1\" class=\"dataframe\">\n",
       "  <thead>\n",
       "    <tr style=\"text-align: right;\">\n",
       "      <th></th>\n",
       "      <th>NORMAL (mm)</th>\n",
       "      <th>ACTUAL (mm)</th>\n",
       "    </tr>\n",
       "    <tr>\n",
       "      <th>Year</th>\n",
       "      <th></th>\n",
       "      <th></th>\n",
       "    </tr>\n",
       "  </thead>\n",
       "  <tbody>\n",
       "    <tr>\n",
       "      <th>2018</th>\n",
       "      <td>1036.4</td>\n",
       "      <td>761.41</td>\n",
       "    </tr>\n",
       "    <tr>\n",
       "      <th>2019</th>\n",
       "      <td>1036.4</td>\n",
       "      <td>918.46</td>\n",
       "    </tr>\n",
       "    <tr>\n",
       "      <th>2020</th>\n",
       "      <td>1036.4</td>\n",
       "      <td>1057.34</td>\n",
       "    </tr>\n",
       "    <tr>\n",
       "      <th>2021</th>\n",
       "      <td>1036.4</td>\n",
       "      <td>1328.56</td>\n",
       "    </tr>\n",
       "    <tr>\n",
       "      <th>2022</th>\n",
       "      <td>1036.4</td>\n",
       "      <td>676.05</td>\n",
       "    </tr>\n",
       "    <tr>\n",
       "      <th>2023</th>\n",
       "      <td>1036.4</td>\n",
       "      <td>773.87</td>\n",
       "    </tr>\n",
       "    <tr>\n",
       "      <th>2024</th>\n",
       "      <td>971.5</td>\n",
       "      <td>596.52</td>\n",
       "    </tr>\n",
       "  </tbody>\n",
       "</table>\n",
       "</div>"
      ],
      "text/plain": [
       "      NORMAL (mm)   ACTUAL (mm) \n",
       "Year                            \n",
       "2018        1036.4        761.41\n",
       "2019        1036.4        918.46\n",
       "2020        1036.4       1057.34\n",
       "2021        1036.4       1328.56\n",
       "2022        1036.4        676.05\n",
       "2023        1036.4        773.87\n",
       "2024         971.5        596.52"
      ]
     },
     "execution_count": 125,
     "metadata": {},
     "output_type": "execute_result"
    }
   ],
   "source": [
    "prec = pd.read_csv('Precipitation/yearly/csvFile275.csv')\n",
    "#prec.count()\n",
    "prec.set_index(\"Year\", inplace = True)\n",
    "prec"
   ]
  },
  {
   "cell_type": "code",
   "execution_count": 126,
   "id": "e708259a-00a3-4dab-9721-aa340ce8a954",
   "metadata": {},
   "outputs": [
    {
     "data": {
      "text/html": [
       "<div>\n",
       "<style scoped>\n",
       "    .dataframe tbody tr th:only-of-type {\n",
       "        vertical-align: middle;\n",
       "    }\n",
       "\n",
       "    .dataframe tbody tr th {\n",
       "        vertical-align: top;\n",
       "    }\n",
       "\n",
       "    .dataframe thead th {\n",
       "        text-align: right;\n",
       "    }\n",
       "</style>\n",
       "<table border=\"1\" class=\"dataframe\">\n",
       "  <thead>\n",
       "    <tr style=\"text-align: right;\">\n",
       "      <th></th>\n",
       "      <th>Evapo-transpiration (in mm)</th>\n",
       "    </tr>\n",
       "    <tr>\n",
       "      <th>Year</th>\n",
       "      <th></th>\n",
       "    </tr>\n",
       "  </thead>\n",
       "  <tbody>\n",
       "    <tr>\n",
       "      <th>2018</th>\n",
       "      <td>2.18</td>\n",
       "    </tr>\n",
       "    <tr>\n",
       "      <th>2019</th>\n",
       "      <td>1.89</td>\n",
       "    </tr>\n",
       "    <tr>\n",
       "      <th>2020</th>\n",
       "      <td>2.00</td>\n",
       "    </tr>\n",
       "    <tr>\n",
       "      <th>2021</th>\n",
       "      <td>2.02</td>\n",
       "    </tr>\n",
       "    <tr>\n",
       "      <th>2022</th>\n",
       "      <td>1.81</td>\n",
       "    </tr>\n",
       "    <tr>\n",
       "      <th>2023</th>\n",
       "      <td>1.62</td>\n",
       "    </tr>\n",
       "    <tr>\n",
       "      <th>2024</th>\n",
       "      <td>1.59</td>\n",
       "    </tr>\n",
       "  </tbody>\n",
       "</table>\n",
       "</div>"
      ],
      "text/plain": [
       "      Evapo-transpiration (in mm)\n",
       "Year                             \n",
       "2018                         2.18\n",
       "2019                         1.89\n",
       "2020                         2.00\n",
       "2021                         2.02\n",
       "2022                         1.81\n",
       "2023                         1.62\n",
       "2024                         1.59"
      ]
     },
     "execution_count": 126,
     "metadata": {},
     "output_type": "execute_result"
    }
   ],
   "source": [
    "et = pd.read_csv('ET/yearly/et.csv')\n",
    "et.set_index(\"Year\", inplace = True)\n",
    "#prec.count()\n",
    "et"
   ]
  },
  {
   "cell_type": "markdown",
   "id": "5bdd0f07-876d-4498-8d5d-985244705d98",
   "metadata": {},
   "source": [
    "#### water storage $$ \\frac{dS}{dt} = P - ET - Q = 0 (say)$$ \n",
    "In our case, discharge data is classified (not available due to certain restrictions).\n",
    "So, in this condition we can estimate the discharge as:\n",
    "#### $$ Q = P - ET $$\n",
    "we have precipitation and ET data, both available from 2018 to 2024"
   ]
  },
  {
   "cell_type": "code",
   "execution_count": 127,
   "id": "63e74017-679d-4b3c-a455-df369da460c2",
   "metadata": {},
   "outputs": [],
   "source": [
    "Q = prec['ACTUAL (mm) '].sub(et['Evapo-transpiration (in mm)'])"
   ]
  },
  {
   "cell_type": "code",
   "execution_count": 128,
   "id": "f537f0ef-abb0-4f19-b28c-4c2b2902b204",
   "metadata": {},
   "outputs": [
    {
     "data": {
      "text/plain": [
       "Year\n",
       "2018     759.23\n",
       "2019     916.57\n",
       "2020    1055.34\n",
       "2021    1326.54\n",
       "2022     674.24\n",
       "2023     772.25\n",
       "2024     594.93\n",
       "dtype: float64"
      ]
     },
     "execution_count": 128,
     "metadata": {},
     "output_type": "execute_result"
    }
   ],
   "source": [
    "Q"
   ]
  },
  {
   "cell_type": "code",
   "execution_count": 129,
   "id": "4f0c0e91-5204-4f40-a614-b795eda502a0",
   "metadata": {},
   "outputs": [],
   "source": [
    "Q = pd.DataFrame({'Discharge': Q})"
   ]
  },
  {
   "cell_type": "code",
   "execution_count": 130,
   "id": "7c4de571-0c43-409b-aebb-1ea6d556000c",
   "metadata": {},
   "outputs": [
    {
     "data": {
      "text/html": [
       "<div>\n",
       "<style scoped>\n",
       "    .dataframe tbody tr th:only-of-type {\n",
       "        vertical-align: middle;\n",
       "    }\n",
       "\n",
       "    .dataframe tbody tr th {\n",
       "        vertical-align: top;\n",
       "    }\n",
       "\n",
       "    .dataframe thead th {\n",
       "        text-align: right;\n",
       "    }\n",
       "</style>\n",
       "<table border=\"1\" class=\"dataframe\">\n",
       "  <thead>\n",
       "    <tr style=\"text-align: right;\">\n",
       "      <th></th>\n",
       "      <th>Discharge</th>\n",
       "    </tr>\n",
       "    <tr>\n",
       "      <th>Year</th>\n",
       "      <th></th>\n",
       "    </tr>\n",
       "  </thead>\n",
       "  <tbody>\n",
       "    <tr>\n",
       "      <th>2018</th>\n",
       "      <td>759.23</td>\n",
       "    </tr>\n",
       "    <tr>\n",
       "      <th>2019</th>\n",
       "      <td>916.57</td>\n",
       "    </tr>\n",
       "    <tr>\n",
       "      <th>2020</th>\n",
       "      <td>1055.34</td>\n",
       "    </tr>\n",
       "    <tr>\n",
       "      <th>2021</th>\n",
       "      <td>1326.54</td>\n",
       "    </tr>\n",
       "    <tr>\n",
       "      <th>2022</th>\n",
       "      <td>674.24</td>\n",
       "    </tr>\n",
       "    <tr>\n",
       "      <th>2023</th>\n",
       "      <td>772.25</td>\n",
       "    </tr>\n",
       "    <tr>\n",
       "      <th>2024</th>\n",
       "      <td>594.93</td>\n",
       "    </tr>\n",
       "  </tbody>\n",
       "</table>\n",
       "</div>"
      ],
      "text/plain": [
       "      Discharge\n",
       "Year           \n",
       "2018     759.23\n",
       "2019     916.57\n",
       "2020    1055.34\n",
       "2021    1326.54\n",
       "2022     674.24\n",
       "2023     772.25\n",
       "2024     594.93"
      ]
     },
     "execution_count": 130,
     "metadata": {},
     "output_type": "execute_result"
    }
   ],
   "source": [
    "Q"
   ]
  },
  {
   "cell_type": "code",
   "execution_count": 131,
   "id": "9262e9d9-116f-404e-98be-5a3e245d0d55",
   "metadata": {},
   "outputs": [
    {
     "data": {
      "text/plain": [
       "Index(['Discharge'], dtype='object')"
      ]
     },
     "execution_count": 131,
     "metadata": {},
     "output_type": "execute_result"
    }
   ],
   "source": [
    "Q.columns"
   ]
  },
  {
   "cell_type": "code",
   "execution_count": 189,
   "id": "bb142ab8-7dbe-487f-b870-c5ddb4b3d776",
   "metadata": {},
   "outputs": [
    {
     "name": "stdout",
     "output_type": "stream",
     "text": [
      "Minimum Discharge    594.93\n",
      "dtype: float64\n",
      "Maximum Discharge    1326.54\n",
      "dtype: float64\n"
     ]
    }
   ],
   "source": [
    "Qmax = Q.max()\n",
    "Qmin = Q.min()\n",
    "print(\"Minimum\",Qmin)\n",
    "print(\"Maximum\",Qmax)"
   ]
  },
  {
   "cell_type": "code",
   "execution_count": 147,
   "id": "27c3f82d-cd3c-4f12-a74a-b9aaccccb7a5",
   "metadata": {},
   "outputs": [],
   "source": [
    "Q.to_csv('Discharge/nalanda_calculated_discharge.csv')"
   ]
  },
  {
   "cell_type": "code",
   "execution_count": 181,
   "id": "2ddba790-6256-4585-9f27-1364cd5f7df1",
   "metadata": {},
   "outputs": [
    {
     "data": {
      "image/png": "[encoded data removed]",
      "text/plain": [
       "<Figure size 432x288 with 1 Axes>"
      ]
     },
     "metadata": {
      "needs_background": "light"
     },
     "output_type": "display_data"
    }
   ],
   "source": [
    "plt.plot(Q, color='r', label='Discharge')\n",
    "# Naming the x-axis, y-axis and the whole graph\n",
    "plt.xlabel(\"Year\")\n",
    "plt.ylabel(\"Discharge\")\n",
    "plt.title(\"Discharge calculated using water balance equation\")\n",
    "\n",
    "#plt.errorbar(Q)\n",
    "plt.legend(prop={'size': 10})\n",
    "\n",
    "# To load the display window\n",
    "plt.show()"
   ]
  },
  {
   "cell_type": "code",
   "execution_count": 168,
   "id": "622293f6-2adc-4f76-83aa-9ca9ba084949",
   "metadata": {},
   "outputs": [
    {
     "data": {
      "image/png": "[encoded data removed]",
      "text/plain": [
       "<Figure size 720x360 with 4 Axes>"
      ]
     },
     "metadata": {
      "needs_background": "light"
     },
     "output_type": "display_data"
    }
   ],
   "source": [
    "# Initialise the subplot function using number of rows and columns\n",
    "figure, axis = plt.subplots(2,2, figsize=(10,5))\n",
    "\n",
    "# Discharge\n",
    "axis[0,0].plot(Q, 'r')\n",
    "axis[0,0].set_title(\"Discharge\")\n",
    "\n",
    "# Evapotranspiration\n",
    "axis[0,1].plot(et['Evapo-transpiration (in mm)'],'b')\n",
    "axis[0,1].set_title(\"Evapo-transpiration (in mm)\")\n",
    "\n",
    "# Total Precipitation\n",
    "axis[1,0].plot(prec['ACTUAL (mm) '],'g')\n",
    "axis[1,0].set_title(\"Precipitation (in mm)\")\n",
    "plt.tight_layout()\n",
    "\n",
    "#all in one\n",
    "axis[1,1].plot(Q, color='r', label='Discharge')\n",
    "axis[1,1].plot(et['Evapo-transpiration (in mm)'],color='g', label='Evapo-transpiration')\n",
    "axis[1,1].plot(prec['ACTUAL (mm) '], color='black',linestyle='dashed', label='Precipitation')\n",
    "axis[1,1].set_title(\"All parameters in a plot\")\n",
    "\n",
    "\n",
    "plt.tight_layout()\n",
    "plt.show()"
   ]
  }
 ],
 "metadata": {
  "kernelspec": {
   "display_name": "Python 3 (ipykernel)",
   "language": "python",
   "name": "python3"
  },
  "language_info": {
   "codemirror_mode": {
    "name": "ipython",
    "version": 3
   },
   "file_extension": ".py",
   "mimetype": "text/x-python",
   "name": "python",
   "nbconvert_exporter": "python",
   "pygments_lexer": "ipython3",
   "version": "3.10.1"
  }
 },
 "nbformat": 4,
 "nbformat_minor": 5
}
